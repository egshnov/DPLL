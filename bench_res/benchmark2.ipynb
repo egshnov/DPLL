{
 "cells": [
  {
   "cell_type": "markdown",
   "id": "dd6f2328",
   "metadata": {},
   "source": [
    "### Тестовый стенд\n",
    "* **CPU:** AMD® Ryzen 5 5500U with Radeon Graphics x 12 @ 4GHz\n",
    "\n",
    "* **RAM:** 8 GB\n",
    "\n",
    "* **OS:** Ubuntu 23.04 (64-bit)\n",
    "\n",
    "### Подготовка к измерениям\n",
    "\n",
    "**Средство измерения:** библиотека Googlebenchmark\n",
    "\n",
    "Перед проведением замеров, были проделаны следующие действия:\n",
    "\n",
    "* отключены все обновления на устройстве;\n",
    "* закрыты фоновые процессы;\n",
    "* установлена максимальная частота процессора:\n",
    "```bash\n",
    "sudo cpupower frequency-set --governor performance\n",
    "```\n",
    "* выключен swap:\n",
    "```bash\n",
    "sudo swapoff -a\n",
    "```\n",
    "* сброшен дисковый кэш:\n",
    "```bash\n",
    "sudo sh -c 'echo 3 >/proc/sys/vm/drop_caches'\n",
    "```\n",
    "* отключен GUI:\n",
    "``` bash\n",
    "sudo systemctl isolate runlevel1.target\n",
    "su -l shalasheg\n",
    "```\n",
    "* программа исполнена одним ядром:\n",
    "```bash\n",
    "taskset -c 0 ./DPLL --benchmark_context=pwd='pwd'  --benchmark_repetitions=50 --benchmark_out='bencmarkout.txt'\n",
    "```\n",
    "* совершён прогрев из 10 проходов.\n",
    "\n",
    "\n",
    "**Выборка** - 39 замеров т.к. случился единичный выброс"
   ]
  },
  {
   "cell_type": "code",
   "execution_count": 4,
   "id": "9f219d45",
   "metadata": {},
   "outputs": [],
   "source": [
    "t = [26149.161944000298, 26322.24900600022, 26267.361316999995, 26297.417354000117, 26197.90369200018, 26309.132053999747, 26294.630005000272, 26293.241947000297, 26020.82023999992, 26184.121546999904, 26442.88757000004, 26330.83653499989, 26356.75623599991, 26464.201599999797, 26132.292935999885, 26291.354469999987, 26396.070077999866, 26255.756592000125, 26341.898136000054, 26528.738174999944, 26277.007826000045, 26523.205050999877, 26292.089447999842, 26000.631728999906, 26077.860844000043, 25932.015276999664, 26342.2196370002, 26229.340048000267, 26278.94612800037, 25959.666879999986, 26612.148086999696, 26327.847632000157, 26292.291374999877, 26309.7227319995, 26301.584378999905, 26286.55710000021, 26164.42829799962, 26237.12975383999, 26275.110687500048]"
   ]
  },
  {
   "cell_type": "code",
   "execution_count": 5,
   "id": "5a78f189",
   "metadata": {},
   "outputs": [],
   "source": [
    "from scipy import stats\n",
    "import numpy as np\n",
    "import matplotlib.pyplot as plt\n",
    "import math"
   ]
  },
  {
   "cell_type": "code",
   "execution_count": 6,
   "id": "a2d85310",
   "metadata": {},
   "outputs": [
    {
     "data": {
      "text/plain": [
       "(array([ 2.,  2.,  2.,  4.,  4., 16.,  4.,  2.,  2.,  1.]),\n",
       " array([25932.015277, 26000.028558, 26068.041839, 26136.05512 ,\n",
       "        26204.068401, 26272.081682, 26340.094963, 26408.108244,\n",
       "        26476.121525, 26544.134806, 26612.148087]),\n",
       " <BarContainer object of 10 artists>)"
      ]
     },
     "execution_count": 6,
     "metadata": {},
     "output_type": "execute_result"
    },
    {
     "data": {
      "image/png": "[encoded data removed]",
      "text/plain": [
       "<Figure size 640x480 with 1 Axes>"
      ]
     },
     "metadata": {},
     "output_type": "display_data"
    }
   ],
   "source": [
    "plt.hist(t)"
   ]
  },
  {
   "cell_type": "code",
   "execution_count": 7,
   "id": "1c9f5713",
   "metadata": {},
   "outputs": [
    {
     "data": {
      "text/plain": [
       "NormaltestResult(statistic=1.813057287820663, pvalue=0.4039239570302037)"
      ]
     },
     "execution_count": 7,
     "metadata": {},
     "output_type": "execute_result"
    }
   ],
   "source": [
    "stats.normaltest(t)"
   ]
  },
  {
   "cell_type": "code",
   "execution_count": 8,
   "id": "f8d39102",
   "metadata": {},
   "outputs": [
    {
     "data": {
      "text/plain": [
       "ShapiroResult(statistic=0.9457243051159029, pvalue=0.05902485510366357)"
      ]
     },
     "execution_count": 8,
     "metadata": {},
     "output_type": "execute_result"
    }
   ],
   "source": [
    "stats.shapiro(t)"
   ]
  },
  {
   "cell_type": "markdown",
   "id": "a8723a42",
   "metadata": {},
   "source": [
    "В обоих тестах pvalue > 0.05"
   ]
  },
  {
   "cell_type": "markdown",
   "id": "069b611f",
   "metadata": {},
   "source": [
    "**Среднее:**"
   ]
  },
  {
   "cell_type": "code",
   "execution_count": 9,
   "id": "b8ddea9a",
   "metadata": {},
   "outputs": [
    {
     "data": {
      "text/plain": [
       "26271.70857298307"
      ]
     },
     "execution_count": 9,
     "metadata": {},
     "output_type": "execute_result"
    }
   ],
   "source": [
    "np.mean(t)"
   ]
  },
  {
   "cell_type": "markdown",
   "id": "6cde9442",
   "metadata": {},
   "source": [
    "**Стандартное отклонение:**"
   ]
  },
  {
   "cell_type": "code",
   "execution_count": 10,
   "id": "8ed35e42",
   "metadata": {},
   "outputs": [
    {
     "data": {
      "text/plain": [
       "145.94582057952306"
      ]
     },
     "execution_count": 10,
     "metadata": {},
     "output_type": "execute_result"
    }
   ],
   "source": [
    "np.std(t, ddof=1)"
   ]
  },
  {
   "cell_type": "markdown",
   "id": "c9aa3ffd",
   "metadata": {},
   "source": [
    "**Стандартное отклонение среднего:**"
   ]
  },
  {
   "cell_type": "code",
   "execution_count": 11,
   "id": "558fde1f",
   "metadata": {},
   "outputs": [
    {
     "data": {
      "text/plain": [
       "23.37003480496752"
      ]
     },
     "execution_count": 11,
     "metadata": {},
     "output_type": "execute_result"
    }
   ],
   "source": [
    "np.std(t, ddof=1)/math.sqrt(len(t))"
   ]
  },
  {
   "cell_type": "markdown",
   "id": "e4554527",
   "metadata": {},
   "source": [
    "**Доверительный интервал 95%:**"
   ]
  },
  {
   "cell_type": "code",
   "execution_count": 12,
   "id": "f0a73934",
   "metadata": {},
   "outputs": [
    {
     "data": {
      "text/plain": [
       "47.31016206959584"
      ]
     },
     "execution_count": 12,
     "metadata": {},
     "output_type": "execute_result"
    }
   ],
   "source": [
    "stats.t.ppf(0.975, df = len(t) - 1)*stats.sem(t)"
   ]
  },
  {
   "cell_type": "markdown",
   "id": "505ea464",
   "metadata": {},
   "source": [
    "Полученные данные после округления:\n",
    "\n",
    "**26,27 ± 0.05** секунд\n"
   ]
  },
  {
   "cell_type": "code",
   "execution_count": null,
   "id": "ba47b705-3d3c-4365-bb2b-d2ae3b085f29",
   "metadata": {},
   "outputs": [],
   "source": []
  }
 ],
 "metadata": {
  "kernelspec": {
   "display_name": "Python 3 (ipykernel)",
   "language": "python",
   "name": "python3"
  },
  "language_info": {
   "codemirror_mode": {
    "name": "ipython",
    "version": 3
   },
   "file_extension": ".py",
   "mimetype": "text/x-python",
   "name": "python",
   "nbconvert_exporter": "python",
   "pygments_lexer": "ipython3",
   "version": "3.11.4"
  }
 },
 "nbformat": 4,
 "nbformat_minor": 5
}

{
 "cells": [
  {
   "cell_type": "markdown",
   "id": "dd6f2328",
   "metadata": {},
   "source": [
    "### Тестовый стенд\n",
    "* **CPU:** AMD® Ryzen 5 5500U with Radeon Graphics x 12 @ 4GHz\n",
    "\n",
    "* **RAM:** 8 GB\n",
    "\n",
    "* **OS:** Ubuntu 23.04 (64-bit)\n",
    "\n",
    "### Подготовка к измерениям\n",
    "\n",
    "**Средство измерения:** библиотека Googlebenchmark\n",
    "\n",
    "Перед проведением замеров, были проделаны следующие действия:\n",
    "\n",
    "* отключены все обновления на устройстве;\n",
    "* закрыты фоновые процессы;\n",
    "* установлена максимальная частота процессора:\n",
    "```bash\n",
    "sudo cpupower frequency-set --governor performance\n",
    "```\n",
    "* выключен swap:\n",
    "```bash\n",
    "sudo swapoff -a\n",
    "```\n",
    "* сброшен дисковый кэш:\n",
    "```bash\n",
    "sudo sh -c 'echo 3 >/proc/sys/vm/drop_caches'\n",
    "```\n",
    "* отключен GUI:\n",
    "``` bash\n",
    "sudo systemctl isolate runlevel1.target\n",
    "su -l shalasheg\n",
    "```\n",
    "* программа исполнена одним ядром:\n",
    "```bash\n",
    "taskset -c 0 ./DPLL --benchmark_context=pwd='pwd'  --benchmark_repetitions=50 --benchmark_out='bencmarkout.txt'\n",
    "```\n",
    "* совершён прогрев из 10 проходов.\n",
    "\n",
    "\n",
    "**Выборка** - 40 замеров"
   ]
  },
  {
   "cell_type": "code",
   "execution_count": 4,
   "id": "9f219d45",
   "metadata": {},
   "outputs": [],
   "source": [
    "t = [26543.914345000303, 26371.122442999877, 26529.03783599959, 26723.351760000696, 26255.870783999853, 26278.494918999968, 26317.891426000642, 26477.86270600045, 26304.11875400023, 26257.286007000403, 26274.64643500025, 26198.28560299993, 26439.029379000203, 26336.870365999857, 26630.752301999564, 26276.95485499953, 26456.940454000687, 26254.520583000158, 26293.1787969992, 26170.374854999864, 26278.20360899932, 26579.421366000133, 26620.333167000354, 26141.16038500015, 26319.15682499948, 26347.09073400063, 26413.24926299967, 26548.337305000132, 26334.768890000305, 26292.413891999786, 26337.68398200027, 26644.411616999605, 26336.887692000346, 26441.432655000426, 26305.57484000019, 26629.242180999427, 26374.280312000337, 26339.447456000016, 26365.18380334004, 26333.710420999978]"
   ]
  },
  {
   "cell_type": "code",
   "execution_count": 5,
   "id": "5a78f189",
   "metadata": {},
   "outputs": [],
   "source": [
    "from scipy import stats\n",
    "import numpy as np\n",
    "import matplotlib.pyplot as plt\n",
    "import math"
   ]
  },
  {
   "cell_type": "code",
   "execution_count": 6,
   "id": "a2d85310",
   "metadata": {},
   "outputs": [
    {
     "data": {
      "text/plain": [
       "(array([ 3.,  3.,  8., 11.,  2.,  4.,  3.,  1.,  4.,  1.]),\n",
       " array([26141.160385 , 26199.3795225, 26257.59866  , 26315.8177975,\n",
       "        26374.036935 , 26432.2560725, 26490.47521  , 26548.6943475,\n",
       "        26606.913485 , 26665.1326225, 26723.35176  ]),\n",
       " <BarContainer object of 10 artists>)"
      ]
     },
     "execution_count": 6,
     "metadata": {},
     "output_type": "execute_result"
    },
    {
     "data": {
      "image/png": "[encoded data removed]",
      "text/plain": [
       "<Figure size 640x480 with 1 Axes>"
      ]
     },
     "metadata": {},
     "output_type": "display_data"
    }
   ],
   "source": [
    "plt.hist(t)"
   ]
  },
  {
   "cell_type": "code",
   "execution_count": 7,
   "id": "1c9f5713",
   "metadata": {},
   "outputs": [
    {
     "data": {
      "text/plain": [
       "NormaltestResult(statistic=3.563045716946771, pvalue=0.16838153068205636)"
      ]
     },
     "execution_count": 7,
     "metadata": {},
     "output_type": "execute_result"
    }
   ],
   "source": [
    "stats.normaltest(t)"
   ]
  },
  {
   "cell_type": "code",
   "execution_count": 8,
   "id": "f8d39102",
   "metadata": {},
   "outputs": [
    {
     "data": {
      "text/plain": [
       "ShapiroResult(statistic=0.928326538620596, pvalue=0.01420809516012161)"
      ]
     },
     "execution_count": 8,
     "metadata": {},
     "output_type": "execute_result"
    }
   ],
   "source": [
    "stats.shapiro(t)"
   ]
  },
  {
   "cell_type": "markdown",
   "id": "a8723a42",
   "metadata": {},
   "source": [
    "В данном случае в первом тесте pvalue > 0.05"
   ]
  },
  {
   "cell_type": "markdown",
   "id": "069b611f",
   "metadata": {},
   "source": [
    "**Среднее:**"
   ]
  },
  {
   "cell_type": "code",
   "execution_count": 9,
   "id": "b8ddea9a",
   "metadata": {},
   "outputs": [
    {
     "data": {
      "text/plain": [
       "26384.312375108548"
      ]
     },
     "execution_count": 9,
     "metadata": {},
     "output_type": "execute_result"
    }
   ],
   "source": [
    "np.mean(t)"
   ]
  },
  {
   "cell_type": "markdown",
   "id": "6cde9442",
   "metadata": {},
   "source": [
    "**Стандартное отклонение:**"
   ]
  },
  {
   "cell_type": "code",
   "execution_count": 10,
   "id": "8ed35e42",
   "metadata": {},
   "outputs": [
    {
     "data": {
      "text/plain": [
       "141.447710022378"
      ]
     },
     "execution_count": 10,
     "metadata": {},
     "output_type": "execute_result"
    }
   ],
   "source": [
    "np.std(t, ddof=1)"
   ]
  },
  {
   "cell_type": "markdown",
   "id": "c9aa3ffd",
   "metadata": {},
   "source": [
    "**Стандартное отклонение среднего:**"
   ]
  },
  {
   "cell_type": "code",
   "execution_count": 11,
   "id": "558fde1f",
   "metadata": {},
   "outputs": [
    {
     "data": {
      "text/plain": [
       "22.364846674287044"
      ]
     },
     "execution_count": 11,
     "metadata": {},
     "output_type": "execute_result"
    }
   ],
   "source": [
    "np.std(t, ddof=1)/math.sqrt(len(t))"
   ]
  },
  {
   "cell_type": "markdown",
   "id": "e4554527",
   "metadata": {},
   "source": [
    "**Доверительный интервал 95%:**"
   ]
  },
  {
   "cell_type": "code",
   "execution_count": 12,
   "id": "f0a73934",
   "metadata": {},
   "outputs": [
    {
     "data": {
      "text/plain": [
       "45.23717229609474"
      ]
     },
     "execution_count": 12,
     "metadata": {},
     "output_type": "execute_result"
    }
   ],
   "source": [
    "stats.t.ppf(0.975, df = len(t) - 1)*stats.sem(t)"
   ]
  },
  {
   "cell_type": "markdown",
   "id": "505ea464",
   "metadata": {},
   "source": [
    "Полученные данные после округления:\n",
    "\n",
    "**26,38 ± 0,05** секунд\n"
   ]
  }
 ],
 "metadata": {
  "kernelspec": {
   "display_name": "Python 3 (ipykernel)",
   "language": "python",
   "name": "python3"
  },
  "language_info": {
   "codemirror_mode": {
    "name": "ipython",
    "version": 3
   },
   "file_extension": ".py",
   "mimetype": "text/x-python",
   "name": "python",
   "nbconvert_exporter": "python",
   "pygments_lexer": "ipython3",
   "version": "3.11.4"
  }
 },
 "nbformat": 4,
 "nbformat_minor": 5
}
